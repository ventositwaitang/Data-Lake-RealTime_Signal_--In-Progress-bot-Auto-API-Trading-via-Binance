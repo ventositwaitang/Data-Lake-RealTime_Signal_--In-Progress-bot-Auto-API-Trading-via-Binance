{
 "cells": [
  {
   "cell_type": "code",
   "execution_count": 1,
   "metadata": {
    "colab": {
     "base_uri": "https://localhost:8080/"
    },
    "id": "qKwfj_-vzGOD",
    "outputId": "4b069a6a-32ac-4bd6-beb2-9dfc341c24f7"
   },
   "outputs": [
    {
     "name": "stdout",
     "output_type": "stream",
     "text": [
      "Requirement already satisfied: websocket-client in c:\\users\\user\\anaconda3\\lib\\site-packages (1.2.3)\n"
     ]
    }
   ],
   "source": [
    "!pip install websocket-client\n",
    "import pandas as pd\n",
    "import websocket, json\n",
    "from sqlalchemy import create_engine"
   ]
  },
  {
   "cell_type": "code",
   "execution_count": 2,
   "metadata": {
    "id": "LpPf09qkk6aF"
   },
   "outputs": [],
   "source": [
    "engine = create_engine('sqlite:///C:/Users/User/Desktop/CryptoDB.db')\n",
    "#path = \"/content/drive/MyDrive/Colab_Notebooks/\""
   ]
  },
  {
   "cell_type": "code",
   "execution_count": 3,
   "metadata": {
    "id": "Ge_TmBzcmET9"
   },
   "outputs": [],
   "source": [
    "stream = \"wss://stream.binance.com:9443/ws/!miniTicker@arr\""
   ]
  },
  {
   "cell_type": "code",
   "execution_count": 8,
   "metadata": {
    "colab": {
     "base_uri": "https://localhost:8080/"
    },
    "id": "3aqu_WxUmXih",
    "outputId": "b8c15bfb-3af0-41ab-89c8-3c93216456c4"
   },
   "outputs": [
    {
     "data": {
      "text/plain": [
       "False"
      ]
     },
     "execution_count": 8,
     "metadata": {},
     "output_type": "execute_result"
    }
   ],
   "source": [
    "def on_message(ws, message):\n",
    "  msg = json.loads(message)\n",
    "  symbol = [x for x in msg if x['s'].endswith('USDT')] ###\n",
    "  frame = pd.DataFrame(symbol)[['E','s','c']]\n",
    "  frame.E = pd.to_datetime(frame.E, unit='ms')\n",
    "  frame.c = frame.c.astype(float)\n",
    "  for row in range(len(frame)):  #\n",
    "    data = frame[row:row+1]\n",
    "    data[['E','c']].to_sql(data['s'].values[0],engine, index=False, if_exists='append') ##\n",
    "\n",
    "ws = websocket.WebSocketApp(stream,on_message=on_message)\n",
    "ws.run_forever()"
   ]
  },
  {
   "cell_type": "code",
   "execution_count": null,
   "metadata": {},
   "outputs": [],
   "source": []
  }
 ],
 "metadata": {
  "colab": {
   "collapsed_sections": [],
   "name": "SQL_for_Signal_Streamlit.ipynb",
   "provenance": []
  },
  "kernelspec": {
   "display_name": "Python 3",
   "language": "python",
   "name": "python3"
  },
  "language_info": {
   "codemirror_mode": {
    "name": "ipython",
    "version": 3
   },
   "file_extension": ".py",
   "mimetype": "text/x-python",
   "name": "python",
   "nbconvert_exporter": "python",
   "pygments_lexer": "ipython3",
   "version": "3.8.5"
  }
 },
 "nbformat": 4,
 "nbformat_minor": 1
}
