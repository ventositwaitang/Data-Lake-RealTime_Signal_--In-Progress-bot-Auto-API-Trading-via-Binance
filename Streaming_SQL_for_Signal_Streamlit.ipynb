{
  "cells": [
    {
      "cell_type": "code",
      "execution_count": 4,
      "metadata": {
        "colab": {
          "base_uri": "https://localhost:8080/"
        },
        "id": "qKwfj_-vzGOD",
        "outputId": "4b069a6a-32ac-4bd6-beb2-9dfc341c24f7"
      },
      "outputs": [
        {
          "output_type": "stream",
          "name": "stdout",
          "text": [
            "Requirement already satisfied: websocket-client in /usr/local/lib/python3.7/dist-packages (1.2.3)\n"
          ]
        }
      ],
      "source": [
        "!pip install websocket-client\n",
        "import pandas as pd\n",
        "import websocket, json\n",
        "from sqlalchemy import create_engine"
      ]
    },
    {
      "cell_type": "code",
      "execution_count": 5,
      "metadata": {
        "id": "LpPf09qkk6aF"
      },
      "outputs": [],
      "source": [
        "engine = create_engine('sqlite:////content/drive/MyDrive/Colab_Notebooks/CryptoDB.db')\n",
        "path = \"/content/drive/MyDrive/Colab_Notebooks/\""
      ]
    },
    {
      "cell_type": "code",
      "execution_count": 6,
      "metadata": {
        "id": "Ge_TmBzcmET9"
      },
      "outputs": [],
      "source": [
        "stream = \"wss://stream.binance.com:9443/ws/!miniTicker@arr\""
      ]
    },
    {
      "cell_type": "code",
      "execution_count": 7,
      "metadata": {
        "colab": {
          "base_uri": "https://localhost:8080/"
        },
        "id": "3aqu_WxUmXih",
        "outputId": "b8c15bfb-3af0-41ab-89c8-3c93216456c4"
      },
      "outputs": [
        {
          "output_type": "execute_result",
          "data": {
            "text/plain": [
              "True"
            ]
          },
          "metadata": {},
          "execution_count": 7
        }
      ],
      "source": [
        "def on_message(ws, message):\n",
        "  msg = json.loads(message)\n",
        "  symbol = [x for x in msg if x['s'].endswith('USDT')] ###\n",
        "  frame = pd.DataFrame(symbol)[['E','s','c']]\n",
        "  frame.E = pd.to_datetime(frame.E, unit='ms')\n",
        "  frame.c = frame.c.astype(float)\n",
        "  for row in range(len(frame)):  #\n",
        "    data = frame[row:row+1]\n",
        "    data[['E','c']].to_sql(data['s'].values[0],engine, index=False, if_exists='append') ##\n",
        "\n",
        "ws = websocket.WebSocketApp(stream,on_message=on_message)\n",
        "ws.run_forever()"
      ]
    }
  ],
  "metadata": {
    "colab": {
      "collapsed_sections": [],
      "name": "SQL_for_Signal_Streamlit.ipynb",
      "provenance": []
    },
    "kernelspec": {
      "display_name": "Python 3",
      "name": "python3"
    },
    "language_info": {
      "name": "python"
    }
  },
  "nbformat": 4,
  "nbformat_minor": 0
}